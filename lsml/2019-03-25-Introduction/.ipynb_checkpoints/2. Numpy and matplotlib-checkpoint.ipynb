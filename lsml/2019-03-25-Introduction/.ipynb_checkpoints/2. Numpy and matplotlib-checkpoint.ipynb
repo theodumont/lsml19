{
 "cells": [
  {
   "cell_type": "markdown",
   "metadata": {},
   "source": [
    "# Numpy and matplotlib\n",
    "Multi-dimensional arrays and 2D visualization in Python.\n",
    "\n",
    "Author: Chloé-Agathe Azencott chloe-agathe.azencott@mines-paristech.fr\n",
    "    \n",
    "With many thanks to [Alexandre Gramfort](http://alexandre.gramfort.net/) (Telecom ParisTech).\n",
    "\n",
    "__This notebook contains 5 small problems. Make sure you have done them before moving on to the next notebook.__"
   ]
  },
  {
   "cell_type": "markdown",
   "metadata": {},
   "source": [
    "## 1. Numpy\n",
    "\n",
    "`numpy` is a python package used in most scientific and numerical computing in Python. It provides performing data structures for manipulating vectors, matrices and tensors of arbitrary dimensions.\n",
    "\n",
    "It is written in C and Fortran, and therefore performs very well on vector/matrix computations."
   ]
  },
  {
   "cell_type": "code",
   "execution_count": 1,
   "metadata": {},
   "outputs": [],
   "source": [
    "# Import the numpy module\n",
    "import numpy as np"
   ]
  },
  {
   "cell_type": "markdown",
   "metadata": {},
   "source": [
    "### 1.1 Numpy arrays\n",
    "\n",
    "NumPy arrays are a fundamental structure for scientific computing. Numpy arrays are homogeneous (i.e. all objects it contains have the same type) multi-dimensional arrays, which we’ll use among other things to represent vectors and matrices.\n",
    "\n",
    "Let us explore some basic Numpy commands.\n",
    "\n",
    "### 1.2 Creating arrays"
   ]
  },
  {
   "cell_type": "code",
   "execution_count": null,
   "metadata": {},
   "outputs": [],
   "source": [
    "# Create a 1D vector from a list\n",
    "v = np.array([1, 2, 3, 4])\n",
    "print v\n",
    "print type(v)"
   ]
  },
  {
   "cell_type": "code",
   "execution_count": 25,
   "metadata": {},
   "outputs": [
    {
     "name": "stdout",
     "output_type": "stream",
     "text": [
      "[[0.52490284 0.14432312 0.05277415 0.98168089 0.61420794]\n",
      " [0.33278393 0.29713203 0.78382989 0.70129005 0.14044906]\n",
      " [0.04236557 0.06058646 0.91631195 0.84228949 0.18085635]]\n",
      "<class 'numpy.ndarray'>\n"
     ]
    }
   ],
   "source": [
    "# Create a random array of size 3 x 5\n",
    "X = np.random.random((3, 5))\n",
    "print(X)\n",
    "print(type(X))"
   ]
  },
  {
   "cell_type": "code",
   "execution_count": null,
   "metadata": {},
   "outputs": [],
   "source": [
    "# Create an array of zeros of size 3 x 5\n",
    "np.zeros((3, 5))"
   ]
  },
  {
   "cell_type": "code",
   "execution_count": null,
   "metadata": {},
   "outputs": [],
   "source": [
    "# Create an array of ones of size 3 x 5\n",
    "np.ones((3, 5))"
   ]
  },
  {
   "cell_type": "code",
   "execution_count": null,
   "metadata": {},
   "outputs": [],
   "source": [
    "# Create the identity matrix of size 4 x 4\n",
    "np.eye(4)"
   ]
  },
  {
   "cell_type": "code",
   "execution_count": null,
   "metadata": {},
   "outputs": [],
   "source": [
    "# Create a range\n",
    "np.arange(0, 10, 2) # arguments: start, stop, step"
   ]
  },
  {
   "cell_type": "code",
   "execution_count": null,
   "metadata": {},
   "outputs": [],
   "source": [
    "# Create n points evenly spreading the [stop, start] interval \n",
    "# with linspace, both start and stop are included\n",
    "np.linspace(0, 10, 3) # start, stop, n"
   ]
  },
  {
   "cell_type": "code",
   "execution_count": null,
   "metadata": {},
   "outputs": [],
   "source": [
    "# Same in log scale\n",
    "np.logspace(0, 10, 3, base=np.e)"
   ]
  },
  {
   "cell_type": "markdown",
   "metadata": {},
   "source": [
    "### 1.3 Information about arrays"
   ]
  },
  {
   "cell_type": "code",
   "execution_count": null,
   "metadata": {},
   "outputs": [],
   "source": [
    "# The dimensions of an array are accessible via shape\n",
    "print v.shape\n",
    "print X.shape"
   ]
  },
  {
   "cell_type": "code",
   "execution_count": null,
   "metadata": {},
   "outputs": [],
   "source": [
    "# The total number of elements of an array are accessible via size\n",
    "print v.size\n",
    "print X.size"
   ]
  },
  {
   "cell_type": "code",
   "execution_count": null,
   "metadata": {},
   "outputs": [],
   "source": [
    "# The number of dimensions of an array\n",
    "print v.ndim\n",
    "print X.ndim"
   ]
  },
  {
   "cell_type": "markdown",
   "metadata": {},
   "source": [
    "### 1.4 Array types\n",
    "Proceed with caution!\n",
    "All elements of an array have the same type, accessible via dtype"
   ]
  },
  {
   "cell_type": "code",
   "execution_count": null,
   "metadata": {},
   "outputs": [],
   "source": [
    "print v.dtype\n",
    "print X.dtype"
   ]
  },
  {
   "cell_type": "code",
   "execution_count": null,
   "metadata": {},
   "outputs": [],
   "source": [
    "a = np.array([1, 2, 3])\n",
    "print a.dtype\n",
    "\n",
    "a[0] = 3.2\n",
    "print a.dtype\n",
    "print a"
   ]
  },
  {
   "cell_type": "markdown",
   "metadata": {},
   "source": [
    "The type of the elements of an array can be explicitely defined with the `dtype` keyword, to be chosen among `int`, `float`, `complex`, `bool`, `int64`, etc."
   ]
  },
  {
   "cell_type": "code",
   "execution_count": null,
   "metadata": {},
   "outputs": [],
   "source": [
    "# A first solution\n",
    "a = np.array([1,2,3], dtype=np.float)\n",
    "print a.dtype\n",
    "\n",
    "a[0] = 3.2\n",
    "print a.dtype\n",
    "print a"
   ]
  },
  {
   "cell_type": "markdown",
   "metadata": {},
   "source": [
    "The type of the elements of an array can be modified with the `astype` function:"
   ]
  },
  {
   "cell_type": "code",
   "execution_count": null,
   "metadata": {},
   "outputs": [],
   "source": [
    "# A second solution\n",
    "a = np.array([1,2,3])\n",
    "print a.dtype\n",
    "\n",
    "a = a.astype(float)\n",
    "\n",
    "a[0] = 3.2\n",
    "print a.dtype\n",
    "print a"
   ]
  },
  {
   "cell_type": "markdown",
   "metadata": {},
   "source": [
    "### 1.5 Accessing elements, rows, and columns of arrays\n",
    "Remember, in Python indices start at 0."
   ]
  },
  {
   "cell_type": "code",
   "execution_count": null,
   "metadata": {},
   "outputs": [],
   "source": [
    "# Get a single element of a vector\n",
    "v[0]"
   ]
  },
  {
   "cell_type": "code",
   "execution_count": null,
   "metadata": {},
   "outputs": [],
   "source": [
    "# Get a single element of a matrix\n",
    "print X[0, 1]"
   ]
  },
  {
   "cell_type": "code",
   "execution_count": null,
   "metadata": {},
   "outputs": [],
   "source": [
    "# Get a row\n",
    "print X[0, :]\n",
    "print X[0]\n",
    "print \"shape of a row vector:\", X[0].shape"
   ]
  },
  {
   "cell_type": "code",
   "execution_count": null,
   "metadata": {},
   "outputs": [],
   "source": [
    "# Get a column\n",
    "print X[:, 3]"
   ]
  },
  {
   "cell_type": "markdown",
   "metadata": {},
   "source": [
    "### 1.6 Slicing\n",
    "The `[start:stop:step]` syntax applicable to strings and lists also applies to arrays."
   ]
  },
  {
   "cell_type": "code",
   "execution_count": null,
   "metadata": {},
   "outputs": [],
   "source": [
    "# Access a sub-matrix\n",
    "print X[1:3, :]"
   ]
  },
  {
   "cell_type": "code",
   "execution_count": null,
   "metadata": {},
   "outputs": [],
   "source": [
    "# Modify a slice\n",
    "X[1:3] = np.zeros((2, 5))\n",
    "print X"
   ]
  },
  {
   "cell_type": "code",
   "execution_count": null,
   "metadata": {},
   "outputs": [],
   "source": [
    "X[::2, ::2]"
   ]
  },
  {
   "cell_type": "markdown",
   "metadata": {},
   "source": [
    "### 1.7 Fancy indexing\n",
    "\n",
    "It is possible to use lists or arrays to define slices"
   ]
  },
  {
   "cell_type": "code",
   "execution_count": 2,
   "metadata": {},
   "outputs": [
    {
     "name": "stdout",
     "output_type": "stream",
     "text": [
      "[[ 0  1  2  3  4]\n",
      " [ 0  2  4  6  8]\n",
      " [ 1  2  3  4  5]\n",
      " [ 5  7  9 11 13]]\n"
     ]
    }
   ],
   "source": [
    "A = np.array([range(5), range(0, 10, 2), range(1, 6), range(5, 15, 2)])\n",
    "print(A)"
   ]
  },
  {
   "cell_type": "code",
   "execution_count": 3,
   "metadata": {},
   "outputs": [
    {
     "name": "stdout",
     "output_type": "stream",
     "text": [
      "[[ 0  1  2  3  4]\n",
      " [ 0  2  4  6  8]\n",
      " [ 5  7  9 11 13]]\n"
     ]
    }
   ],
   "source": [
    "row_indices = [0, 1, 3]\n",
    "print(A[row_indices])"
   ]
  },
  {
   "cell_type": "code",
   "execution_count": 4,
   "metadata": {},
   "outputs": [
    {
     "name": "stdout",
     "output_type": "stream",
     "text": [
      "[6 5]\n"
     ]
    }
   ],
   "source": [
    "print(A[[1, 2], [3, 4]])"
   ]
  },
  {
   "cell_type": "code",
   "execution_count": 6,
   "metadata": {},
   "outputs": [
    {
     "name": "stdout",
     "output_type": "stream",
     "text": [
      "(array([[1],\n",
      "       [2]]), array([[3, 4]]))\n",
      "[[ 0  1  2  3  4]\n",
      " [ 0  2  4  0  0]\n",
      " [ 1  2  3  0  0]\n",
      " [ 5  7  9 11 13]]\n"
     ]
    }
   ],
   "source": [
    "ix = np.ix_([1, 2], [3, 4])\n",
    "print(ix)\n",
    "A[ix] = 0\n",
    "print(A)"
   ]
  },
  {
   "cell_type": "markdown",
   "metadata": {},
   "source": [
    "### 1.8 Masks\n",
    "\n",
    "[Masks](https://docs.scipy.org/doc/numpy/reference/maskedarray.generic.html) provide a convenient way to deal with array entries that should not be used in computations, and are used in particular to deal with missing data. Those entries are not removed from the array but simply masked."
   ]
  },
  {
   "cell_type": "code",
   "execution_count": 7,
   "metadata": {},
   "outputs": [
    {
     "name": "stdout",
     "output_type": "stream",
     "text": [
      "[0 1 2 3 4]\n"
     ]
    }
   ],
   "source": [
    "B = np.arange(5)\n",
    "print(B)"
   ]
  },
  {
   "cell_type": "code",
   "execution_count": 8,
   "metadata": {},
   "outputs": [
    {
     "name": "stdout",
     "output_type": "stream",
     "text": [
      "[0 2]\n"
     ]
    }
   ],
   "source": [
    "row_mask = np.array([True, False, True, False, False])\n",
    "print(B[row_mask])"
   ]
  },
  {
   "cell_type": "code",
   "execution_count": 9,
   "metadata": {},
   "outputs": [
    {
     "name": "stdout",
     "output_type": "stream",
     "text": [
      "[0 2]\n"
     ]
    }
   ],
   "source": [
    "# Equivalently\n",
    "row_mask = np.array([1,0,1,0,0], dtype=bool)\n",
    "print(B[row_mask])"
   ]
  },
  {
   "cell_type": "code",
   "execution_count": 11,
   "metadata": {},
   "outputs": [
    {
     "name": "stdout",
     "output_type": "stream",
     "text": [
      "[ True  True  True False False]\n",
      "[0 1 2]\n"
     ]
    }
   ],
   "source": [
    "print(B<3)\n",
    "print(B[B<3])"
   ]
  },
  {
   "cell_type": "code",
   "execution_count": 12,
   "metadata": {},
   "outputs": [
    {
     "name": "stdout",
     "output_type": "stream",
     "text": [
      "(array([0, 1, 2], dtype=int64),)\n",
      "[0 1 2]\n"
     ]
    }
   ],
   "source": [
    "# Convert a binary mask in position indices using *where*\n",
    "positions = np.where(B<3)\n",
    "print(positions)\n",
    "\n",
    "print(B[positions])"
   ]
  },
  {
   "cell_type": "code",
   "execution_count": 13,
   "metadata": {},
   "outputs": [
    {
     "name": "stdout",
     "output_type": "stream",
     "text": [
      "[ True  True False False False]\n",
      "[0 1]\n"
     ]
    }
   ],
   "source": [
    "a = np.array([1, 2, 3, 4, 5])\n",
    "print(a < 3)\n",
    "print(B[a < 3])"
   ]
  },
  {
   "cell_type": "code",
   "execution_count": 14,
   "metadata": {},
   "outputs": [
    {
     "name": "stdout",
     "output_type": "stream",
     "text": [
      "[[0 1]\n",
      " [0 2]\n",
      " [1 2]\n",
      " [5 7]]\n"
     ]
    }
   ],
   "source": [
    "print(A[:, a<3])"
   ]
  },
  {
   "cell_type": "markdown",
   "metadata": {},
   "source": [
    "### 1.9 Reshaping arrays"
   ]
  },
  {
   "cell_type": "code",
   "execution_count": null,
   "metadata": {},
   "outputs": [],
   "source": [
    "print A"
   ]
  },
  {
   "cell_type": "code",
   "execution_count": null,
   "metadata": {},
   "outputs": [],
   "source": [
    "n, m = A.shape"
   ]
  },
  {
   "cell_type": "code",
   "execution_count": null,
   "metadata": {},
   "outputs": [],
   "source": [
    "# Reshape A\n",
    "B = A.reshape((1, n*m))\n",
    "print B"
   ]
  },
  {
   "cell_type": "code",
   "execution_count": null,
   "metadata": {},
   "outputs": [],
   "source": [
    "print A"
   ]
  },
  {
   "cell_type": "code",
   "execution_count": null,
   "metadata": {},
   "outputs": [],
   "source": [
    "B[0:5] = -1\n",
    "print B"
   ]
  },
  {
   "cell_type": "code",
   "execution_count": null,
   "metadata": {},
   "outputs": [],
   "source": [
    "print A"
   ]
  },
  {
   "cell_type": "markdown",
   "metadata": {},
   "source": [
    "The original variable was also modified! B is only a new _view_ of A.\n",
    "\n",
    "To create a new array that's the vector (1D) version of A, we use `flatten`:"
   ]
  },
  {
   "cell_type": "code",
   "execution_count": null,
   "metadata": {},
   "outputs": [],
   "source": [
    "B = A.flatten()\n",
    "print B"
   ]
  },
  {
   "cell_type": "code",
   "execution_count": null,
   "metadata": {},
   "outputs": [],
   "source": [
    "B.shape"
   ]
  },
  {
   "cell_type": "code",
   "execution_count": null,
   "metadata": {},
   "outputs": [],
   "source": [
    "B[0:5] = 10\n",
    "print B"
   ]
  },
  {
   "cell_type": "code",
   "execution_count": null,
   "metadata": {},
   "outputs": [],
   "source": [
    "print A"
   ]
  },
  {
   "cell_type": "markdown",
   "metadata": {},
   "source": [
    "### 1.10 Concatenating arrays"
   ]
  },
  {
   "cell_type": "markdown",
   "metadata": {},
   "source": [
    "#### 1.10.1 Repeat and tile"
   ]
  },
  {
   "cell_type": "code",
   "execution_count": 15,
   "metadata": {},
   "outputs": [
    {
     "name": "stdout",
     "output_type": "stream",
     "text": [
      "[[1 2]\n",
      " [3 4]]\n"
     ]
    }
   ],
   "source": [
    "a = np.array([[1, 2], [3, 4]])\n",
    "print(a)"
   ]
  },
  {
   "cell_type": "code",
   "execution_count": 16,
   "metadata": {},
   "outputs": [
    {
     "name": "stdout",
     "output_type": "stream",
     "text": [
      "[1 1 1 2 2 2 3 3 3 4 4 4]\n"
     ]
    }
   ],
   "source": [
    "# repeat each item 3 times\n",
    "print(np.repeat(a, 3))"
   ]
  },
  {
   "cell_type": "code",
   "execution_count": 17,
   "metadata": {},
   "outputs": [
    {
     "name": "stdout",
     "output_type": "stream",
     "text": [
      "[[1 1 1 2 2 2]\n",
      " [3 3 3 4 4 4]]\n"
     ]
    }
   ],
   "source": [
    "# The result was 1D!\n",
    "print(np.repeat(a, 3, axis=1))"
   ]
  },
  {
   "cell_type": "code",
   "execution_count": 18,
   "metadata": {},
   "outputs": [
    {
     "name": "stdout",
     "output_type": "stream",
     "text": [
      "[[1 2 1 2 1 2]\n",
      " [3 4 3 4 3 4]]\n"
     ]
    }
   ],
   "source": [
    "# repeat the matrix 3 times\n",
    "print(np.tile(a, 3))"
   ]
  },
  {
   "cell_type": "markdown",
   "metadata": {},
   "source": [
    "#### 1.10.2 Concatenate"
   ]
  },
  {
   "cell_type": "code",
   "execution_count": 20,
   "metadata": {},
   "outputs": [
    {
     "name": "stdout",
     "output_type": "stream",
     "text": [
      "(1, 2)\n"
     ]
    }
   ],
   "source": [
    "b = np.array([[5, 6]])\n",
    "print(b.shape)"
   ]
  },
  {
   "cell_type": "code",
   "execution_count": null,
   "metadata": {},
   "outputs": [],
   "source": [
    "print np.concatenate((a, b), axis=0)"
   ]
  },
  {
   "cell_type": "code",
   "execution_count": null,
   "metadata": {},
   "outputs": [],
   "source": [
    "print np.concatenate((a, b.T), axis=1)"
   ]
  },
  {
   "cell_type": "markdown",
   "metadata": {},
   "source": [
    "#### 1.10.3 Stack arrays"
   ]
  },
  {
   "cell_type": "code",
   "execution_count": 21,
   "metadata": {},
   "outputs": [
    {
     "data": {
      "text/plain": [
       "array([[1, 2],\n",
       "       [3, 4],\n",
       "       [5, 6]])"
      ]
     },
     "execution_count": 21,
     "metadata": {},
     "output_type": "execute_result"
    }
   ],
   "source": [
    "np.vstack((a,b))"
   ]
  },
  {
   "cell_type": "code",
   "execution_count": 22,
   "metadata": {},
   "outputs": [
    {
     "data": {
      "text/plain": [
       "array([[1, 2, 5],\n",
       "       [3, 4, 6]])"
      ]
     },
     "execution_count": 22,
     "metadata": {},
     "output_type": "execute_result"
    }
   ],
   "source": [
    "np.hstack((a,b.T))"
   ]
  },
  {
   "cell_type": "markdown",
   "metadata": {},
   "source": [
    "### 1.11 Array manipulation\n",
    "We use 2-dimensional arrays to represent matrices, and can do basic linear algebra operations on them.\n",
    "#### 1.11.1 Transposing an array"
   ]
  },
  {
   "cell_type": "code",
   "execution_count": 26,
   "metadata": {},
   "outputs": [
    {
     "name": "stdout",
     "output_type": "stream",
     "text": [
      "[[0.52490284 0.33278393 0.04236557]\n",
      " [0.14432312 0.29713203 0.06058646]\n",
      " [0.05277415 0.78382989 0.91631195]\n",
      " [0.98168089 0.70129005 0.84228949]\n",
      " [0.61420794 0.14044906 0.18085635]]\n"
     ]
    }
   ],
   "source": [
    "print(X.T)"
   ]
  },
  {
   "cell_type": "markdown",
   "metadata": {},
   "source": [
    "#### 1.11.2 Applying a transformation to all entries of an array"
   ]
  },
  {
   "cell_type": "code",
   "execution_count": null,
   "metadata": {},
   "outputs": [],
   "source": [
    "# Multiply all entries of X by 2:\n",
    "print 2*X"
   ]
  },
  {
   "cell_type": "markdown",
   "metadata": {},
   "source": [
    "## Problem 2.1\n",
    "Compute the following matrices:\n",
    "* the one obtained by adding 1 to all entries of X\n",
    "* the one which entries are the logarithm (base 2) of the previous one\n",
    "* the one which entries are the squares of the entries of X"
   ]
  },
  {
   "cell_type": "code",
   "execution_count": 34,
   "metadata": {},
   "outputs": [
    {
     "name": "stdout",
     "output_type": "stream",
     "text": [
      "+1: 1.5 ; 1.5\n",
      "log: -0.9 ; -0.9\n",
      "^2: 0.3 ; 0.3\n",
      "+1: 1.1 ; 1.1\n",
      "log: -2.8 ; -2.8\n",
      "^2: 0.0 ; 0.0\n",
      "+1: 1.1 ; 1.1\n",
      "log: -4.2 ; -4.2\n",
      "^2: 0.0 ; 0.0\n",
      "+1: 1.3 ; 1.3\n",
      "log: -1.6 ; -1.6\n",
      "^2: 0.1 ; 0.1\n",
      "+1: 1.3 ; 1.3\n",
      "log: -1.8 ; -1.8\n",
      "^2: 0.1 ; 0.1\n",
      "+1: 1.8 ; 1.8\n",
      "log: -0.4 ; -0.4\n",
      "^2: 0.6 ; 0.6\n",
      "+1: 1.0 ; 1.0\n",
      "log: -4.6 ; -4.6\n",
      "^2: 0.0 ; 0.0\n",
      "+1: 1.1 ; 1.1\n",
      "log: -4.0 ; -4.0\n",
      "^2: 0.0 ; 0.0\n",
      "+1: 1.9 ; 1.9\n",
      "log: -0.1 ; -0.1\n",
      "^2: 0.8 ; 0.8\n"
     ]
    }
   ],
   "source": [
    "# Add 1 to all entries of x\n",
    "X1 = X + 1\n",
    "\n",
    "# Compute the array that has as entries the logarithm (base 2) of the entries of X\n",
    "LOG = np.log2(X)\n",
    "\n",
    "# Square all entries of X\n",
    "X2 = X**2\n",
    "\n",
    "# tests\n",
    "import math\n",
    "for i in range(3):\n",
    "    for j in range(3):\n",
    "        print(\"+1: {:.1f} ; {:.1f}\".format(X1[i, j], X[i, j] + 1))\n",
    "        print(\"log: {:.1f} ; {:.1f}\".format(LOG[i, j], math.log2(X[i, j])))\n",
    "        print(\"^2: {:.1f} ; {:.1f}\".format(X2[i, j], X[i, j]**2))"
   ]
  },
  {
   "cell_type": "markdown",
   "metadata": {},
   "source": [
    "#### 1.11.3 Matrix multiplication"
   ]
  },
  {
   "cell_type": "code",
   "execution_count": null,
   "metadata": {},
   "outputs": [],
   "source": [
    "# Element-wise matrix multiplication\n",
    "print X*X"
   ]
  },
  {
   "cell_type": "code",
   "execution_count": null,
   "metadata": {},
   "outputs": [],
   "source": [
    "# Matrix multiplication \n",
    "print np.dot(X, X.T)\n",
    "print X.dot(X.T)"
   ]
  },
  {
   "cell_type": "markdown",
   "metadata": {},
   "source": [
    "## Problem 2.2\n",
    "* Create a random array B of size 5 x 4\n",
    "* Multiply X by B"
   ]
  },
  {
   "cell_type": "code",
   "execution_count": 36,
   "metadata": {},
   "outputs": [
    {
     "name": "stdout",
     "output_type": "stream",
     "text": [
      "[[1.27319133 0.86706686 0.95467062 1.11638548]\n",
      " [1.45183727 0.66961168 1.10596977 1.1864394 ]\n",
      " [1.26167845 0.4005312  0.95467615 1.11248065]]\n"
     ]
    }
   ],
   "source": [
    "B = np.random.random((5,4))\n",
    "print(X.dot(B))"
   ]
  },
  {
   "cell_type": "markdown",
   "metadata": {},
   "source": [
    "#### 1.11.4 Diagonal of a matrix"
   ]
  },
  {
   "cell_type": "code",
   "execution_count": 37,
   "metadata": {},
   "outputs": [
    {
     "data": {
      "text/plain": [
       "array([0.88439108, 0.27781487, 0.8197399 ])"
      ]
     },
     "execution_count": 37,
     "metadata": {},
     "output_type": "execute_result"
    }
   ],
   "source": [
    "X = np.random.random((3, 5))\n",
    "# Get the diagonal of  X. Note that X is not square.\n",
    "np.diag(X)"
   ]
  },
  {
   "cell_type": "code",
   "execution_count": 38,
   "metadata": {},
   "outputs": [
    {
     "data": {
      "text/plain": [
       "1.9819458506682786"
      ]
     },
     "execution_count": 38,
     "metadata": {},
     "output_type": "execute_result"
    }
   ],
   "source": [
    "# Compute the trace of  X\n",
    "np.trace(X)"
   ]
  },
  {
   "cell_type": "markdown",
   "metadata": {},
   "source": [
    "#### 1.11.5 Linear algebra\n",
    "\n",
    "More complex linear algebra operations are available via numpy.linalg:\n",
    "http://docs.scipy.org/doc/numpy/reference/routines.linalg.html"
   ]
  },
  {
   "cell_type": "code",
   "execution_count": 39,
   "metadata": {},
   "outputs": [
    {
     "data": {
      "text/plain": [
       "0.31663417876869393"
      ]
     },
     "execution_count": 39,
     "metadata": {},
     "output_type": "execute_result"
    }
   ],
   "source": [
    "# Compute the determinant of M=XX'\n",
    "M = np.dot(X, X.T)\n",
    "np.linalg.det(M)"
   ]
  },
  {
   "cell_type": "code",
   "execution_count": 41,
   "metadata": {},
   "outputs": [
    {
     "name": "stdout",
     "output_type": "stream",
     "text": [
      "eigenvalues: [4.3844381  1.05706489 0.06831911]\n",
      "eigenvectors: [[-0.4936636  -0.66855218 -0.55617824]\n",
      " [-0.49294598  0.7419919  -0.4543702 ]\n",
      " [-0.71644994 -0.0498598   0.6958545 ]]\n"
     ]
    }
   ],
   "source": [
    "# Compute the eigenvalues and eigenvectors of M\n",
    "v, w = np.linalg.eig(M)\n",
    "print(\"eigenvalues:\", v)\n",
    "print(\"eigenvectors:\", w)"
   ]
  },
  {
   "cell_type": "code",
   "execution_count": null,
   "metadata": {},
   "outputs": [],
   "source": [
    "# Compute the inverse of M\n",
    "print np.linalg.inv(M)\n",
    "\n",
    "# Check the product of M by its inverse is the identity\n",
    "print np.dot(M, np.linalg.inv(M))"
   ]
  },
  {
   "cell_type": "markdown",
   "metadata": {},
   "source": [
    "### 1.12 Simple statistics\n",
    "\n",
    "We'll start from a [Vandermonde matrix](http://mathworld.wolfram.com/VandermondeMatrix.html)"
   ]
  },
  {
   "cell_type": "code",
   "execution_count": 42,
   "metadata": {},
   "outputs": [
    {
     "name": "stdout",
     "output_type": "stream",
     "text": [
      "[[ 1  1  1  1]\n",
      " [ 8  4  2  1]\n",
      " [27  9  3  1]\n",
      " [64 16  4  1]]\n"
     ]
    }
   ],
   "source": [
    "# Generate a Vandermonde matrix\n",
    "data = np.vander([1, 2, 3, 4])\n",
    "print(data)"
   ]
  },
  {
   "cell_type": "markdown",
   "metadata": {},
   "source": [
    "#### 1.12.1 Mean"
   ]
  },
  {
   "cell_type": "code",
   "execution_count": 43,
   "metadata": {},
   "outputs": [
    {
     "name": "stdout",
     "output_type": "stream",
     "text": [
      "9.0\n"
     ]
    }
   ],
   "source": [
    "print(np.mean(data))"
   ]
  },
  {
   "cell_type": "code",
   "execution_count": 44,
   "metadata": {},
   "outputs": [
    {
     "name": "stdout",
     "output_type": "stream",
     "text": [
      "[25.   7.5  2.5  1. ]\n"
     ]
    }
   ],
   "source": [
    "print(np.mean(data, axis=0)) # column-wise"
   ]
  },
  {
   "cell_type": "code",
   "execution_count": 45,
   "metadata": {},
   "outputs": [
    {
     "name": "stdout",
     "output_type": "stream",
     "text": [
      "[ 1.    3.75 10.   21.25]\n"
     ]
    }
   ],
   "source": [
    "print(np.mean(data, axis=1)) # row-wise"
   ]
  },
  {
   "cell_type": "code",
   "execution_count": 46,
   "metadata": {},
   "outputs": [
    {
     "name": "stdout",
     "output_type": "stream",
     "text": [
      "2.5\n"
     ]
    }
   ],
   "source": [
    "print(np.mean(data[:, 2])) # for a given column"
   ]
  },
  {
   "cell_type": "markdown",
   "metadata": {},
   "source": [
    "#### 1.12.2 Standard deviation"
   ]
  },
  {
   "cell_type": "code",
   "execution_count": 47,
   "metadata": {},
   "outputs": [
    {
     "name": "stdout",
     "output_type": "stream",
     "text": [
      "1.25\n",
      "1.118033988749895\n",
      "1.118033988749895\n"
     ]
    }
   ],
   "source": [
    "# variance\n",
    "print(np.var(data[:, 2])) # for a given column\n",
    "\n",
    "# standard deviation\n",
    "print(np.std(data[:, 2]))\n",
    "\n",
    "# Check the relationship between variance and standard deviation\n",
    "print(np.sqrt(np.var(data[:, 2])))"
   ]
  },
  {
   "cell_type": "code",
   "execution_count": 48,
   "metadata": {},
   "outputs": [
    {
     "name": "stdout",
     "output_type": "stream",
     "text": [
      "248.875\n"
     ]
    }
   ],
   "source": [
    "print(np.var(data)) # for the entire matrix"
   ]
  },
  {
   "cell_type": "code",
   "execution_count": null,
   "metadata": {},
   "outputs": [],
   "source": [
    "print np.std(data, axis=1) # row-wise"
   ]
  },
  {
   "cell_type": "markdown",
   "metadata": {},
   "source": [
    "#### 1.12.3 Min and max"
   ]
  },
  {
   "cell_type": "code",
   "execution_count": null,
   "metadata": {},
   "outputs": [],
   "source": [
    "data.min()"
   ]
  },
  {
   "cell_type": "code",
   "execution_count": null,
   "metadata": {},
   "outputs": [],
   "source": [
    "data.max(axis=0)"
   ]
  },
  {
   "cell_type": "code",
   "execution_count": null,
   "metadata": {},
   "outputs": [],
   "source": [
    "data.sum()"
   ]
  },
  {
   "cell_type": "markdown",
   "metadata": {},
   "source": [
    "#### 1.12.4 sum and product"
   ]
  },
  {
   "cell_type": "code",
   "execution_count": null,
   "metadata": {},
   "outputs": [],
   "source": [
    "print np.sum(data[:, 2])"
   ]
  },
  {
   "cell_type": "code",
   "execution_count": null,
   "metadata": {},
   "outputs": [],
   "source": [
    "data[:, 2].sum()"
   ]
  },
  {
   "cell_type": "code",
   "execution_count": null,
   "metadata": {},
   "outputs": [],
   "source": [
    "data[:, 2].prod()"
   ]
  },
  {
   "cell_type": "code",
   "execution_count": null,
   "metadata": {},
   "outputs": [],
   "source": [
    "# cumulative sum\n",
    "np.cumsum(data[:, 2])"
   ]
  },
  {
   "cell_type": "code",
   "execution_count": null,
   "metadata": {},
   "outputs": [],
   "source": [
    "np.cumsum(data[:, 2]+1)"
   ]
  },
  {
   "cell_type": "markdown",
   "metadata": {},
   "source": [
    "## Problem 2.3\n",
    "\n",
    "Using Numpy and no loop, compute an approximation of $\\pi$ with Wallis' product: $\\pi = 2 \\prod_{n=1}^\\infty \\frac{4 n^2}{4 n^2 - 1}$"
   ]
  },
  {
   "cell_type": "code",
   "execution_count": 53,
   "metadata": {},
   "outputs": [
    {
     "name": "stdout",
     "output_type": "stream",
     "text": [
      "3.141584799657247\n"
     ]
    }
   ],
   "source": [
    "n = 100000\n",
    "terms_n = np.array([4*i**2/(4*i**2-1) for i in range(1, n+1)])\n",
    "\n",
    "res_n = 2 * terms_n.prod()\n",
    "print(res_n)\n"
   ]
  },
  {
   "cell_type": "markdown",
   "metadata": {},
   "source": [
    "### 1.13 Reading/writing arrays from/to csv files\n",
    "\n",
    "`data.csv` is a toy data set (4 rows of 5 columns). Let us read it:"
   ]
  },
  {
   "cell_type": "code",
   "execution_count": 54,
   "metadata": {},
   "outputs": [
    {
     "name": "stderr",
     "output_type": "stream",
     "text": [
      "'cat' n'est pas reconnu en tant que commande interne\n",
      "ou externe, un programme ex‚cutable ou un fichier de commandes.\n"
     ]
    }
   ],
   "source": [
    "!cat data.csv"
   ]
  },
  {
   "cell_type": "code",
   "execution_count": 55,
   "metadata": {},
   "outputs": [
    {
     "name": "stdout",
     "output_type": "stream",
     "text": [
      "[[ 1  2  3  4  5]\n",
      " [ 6  7  8  9 10]\n",
      " [ 1  3  3  4  6]\n",
      " [ 1  2  3  4 20]]\n"
     ]
    }
   ],
   "source": [
    "# Create a numpy array directly from a csv file\n",
    "M = np.genfromtxt('data.csv', delimiter=',', dtype='int')\n",
    "print(M)"
   ]
  },
  {
   "cell_type": "code",
   "execution_count": 56,
   "metadata": {},
   "outputs": [
    {
     "name": "stdout",
     "output_type": "stream",
     "text": [
      "[[0.26422741 0.76845539 0.69958534]\n",
      " [0.41169347 0.03174922 0.21646341]\n",
      " [0.37195808 0.93519933 0.70213861]]\n"
     ]
    }
   ],
   "source": [
    "# Save a numpy array to a csv file\n",
    "M = np.random.rand(3, 3)\n",
    "print(M)\n",
    "np.savetxt(\"random-matrix.txt\", M)"
   ]
  },
  {
   "cell_type": "code",
   "execution_count": null,
   "metadata": {},
   "outputs": [],
   "source": [
    "! cat random-matrix.txt"
   ]
  },
  {
   "cell_type": "code",
   "execution_count": 57,
   "metadata": {},
   "outputs": [],
   "source": [
    "np.savetxt(\"random-matrix.txt\", M, fmt='%.3f', delimiter=',')\n",
    "\n",
    "# ! cat random-matrix.txt"
   ]
  },
  {
   "cell_type": "markdown",
   "metadata": {},
   "source": [
    "For more on arrays, you can refer to http://docs.scipy.org/doc/numpy/reference/arrays.html.\n",
    "\n",
    "For more about NumPy, you can refer to:\n",
    "* The Tentative NumPy Tutorial at http://wiki.scipy.org/Tentative_NumPy_Tutorial;\n",
    "* The NumPy documentation at http://docs.scipy.org/doc/numpy/index.html."
   ]
  },
  {
   "cell_type": "markdown",
   "metadata": {},
   "source": [
    "## 2. Matplotlib\n",
    "\n",
    "Visualization is an important part of machine learning. Plotting your data will allow you to have a better feel for it (how are the features distributed, are there outliers, etc.). Plotting measures of performance (whether ROC curves or single-valued performance measures, with error bars) allows you to rapidly compare methods.\n",
    "\n",
    "matplotlib is a very flexible data visualization package, partially inspired by MATLAB."
   ]
  },
  {
   "cell_type": "markdown",
   "metadata": {},
   "source": [
    "matplotlib can be imported with\n",
    "\n",
    "    from matplotlib import *\n",
    "    \n",
    "but in a Jupyter notebook, using the \n",
    "\n",
    "    % pylab inline\n",
    "    \n",
    "will include your plots in your notebook.\n",
    "\n",
    "It is equivalent to: \n",
    "\n",
    "    import numpy as np\n",
    "    from matplotlib import pyplot as plt"
   ]
  },
  {
   "cell_type": "code",
   "execution_count": 63,
   "metadata": {},
   "outputs": [
    {
     "name": "stdout",
     "output_type": "stream",
     "text": [
      "Populating the interactive namespace from numpy and matplotlib\n"
     ]
    }
   ],
   "source": [
    "%pylab inline"
   ]
  },
  {
   "cell_type": "markdown",
   "metadata": {},
   "source": [
    "### 2.1 Lines"
   ]
  },
  {
   "cell_type": "code",
   "execution_count": 64,
   "metadata": {},
   "outputs": [
    {
     "data": {
      "image/png": "[encoded data removed]",
      "text/plain": [
       "<Figure size 432x288 with 1 Axes>"
      ]
     },
     "metadata": {
      "needs_background": "light"
     },
     "output_type": "display_data"
    }
   ],
   "source": [
    "# Plotting a sinusoide\n",
    "\n",
    "# Create an array of 100 equally-spaced points between 0 and 10 (to serve as x coordinates)\n",
    "x = np.linspace(0, 10, 100)\n",
    "\n",
    "# Create the y coordinates\n",
    "y = np.sin(x)\n",
    "\n",
    "# Create the plot\n",
    "plt.plot(x, y)\n",
    "plt.show() # only necessary if plt.ion() has been called (default in pylab)"
   ]
  },
  {
   "cell_type": "code",
   "execution_count": null,
   "metadata": {},
   "outputs": [],
   "source": [
    "# Change plot style\n",
    "plt.plot(x, y, color='orange', linestyle='--', linewidth=3)"
   ]
  },
  {
   "cell_type": "code",
   "execution_count": null,
   "metadata": {},
   "outputs": [],
   "source": [
    "# Plot the individual points\n",
    "plt.plot(x, y, color='orange', marker='x', linestyle='')"
   ]
  },
  {
   "cell_type": "code",
   "execution_count": null,
   "metadata": {},
   "outputs": [],
   "source": [
    "plt.scatter(x, y, marker='x')"
   ]
  },
  {
   "cell_type": "code",
   "execution_count": null,
   "metadata": {},
   "outputs": [],
   "source": [
    "# Plot multiple lines\n",
    "plt.plot(x, y, linewidth=2, label='sine')\n",
    "plt.plot(x, np.cos(x), linewidth=2, label='cosine')\n",
    "plt.legend(fontsize=16)"
   ]
  },
  {
   "cell_type": "code",
   "execution_count": null,
   "metadata": {},
   "outputs": [],
   "source": [
    "# Add a title and caption and label the axes\n",
    "plt.plot(x, y, linewidth=2, label='sine')\n",
    "plt.plot(x, np.cos(x), linewidth=2, label='cosine')\n",
    "plt.legend(loc='lower left', fontsize=14)\n",
    "plt.title(\"Sinusoides\", fontsize=14)\n",
    "plt.xlabel(\"$f(x)$\", fontsize=16)\n",
    "plt.ylabel(\"$\\sin(x)$\", fontsize=16)"
   ]
  },
  {
   "cell_type": "code",
   "execution_count": 65,
   "metadata": {},
   "outputs": [
    {
     "data": {
      "image/png": "[encoded data removed]",
      "text/plain": [
       "<Figure size 432x288 with 1 Axes>"
      ]
     },
     "metadata": {
      "needs_background": "light"
     },
     "output_type": "display_data"
    }
   ],
   "source": [
    "# Save the plot\n",
    "plt.plot(x, y, linewidth=2, label='sine')\n",
    "plt.plot(x, np.cos(x), linewidth=2, label='cosine')\n",
    "plt.legend(loc='lower left', fontsize=14)\n",
    "plt.title(\"Sinusoides\", fontsize=14)\n",
    "plt.xlabel(\"$f(x)$\", fontsize=16)\n",
    "plt.ylabel(\"$sin(x)$\", fontsize=16)\n",
    "plt.savefig(\"my_sinusoide.png\")"
   ]
  },
  {
   "cell_type": "markdown",
   "metadata": {},
   "source": [
    "## Problem 2.4\n",
    "Plot a sinusoide of half the amplitude and twice the frequency of the above sine curve.\n",
    "Make it green."
   ]
  },
  {
   "cell_type": "code",
   "execution_count": null,
   "metadata": {},
   "outputs": [],
   "source": [
    "plt.plot(x, y, linewidth=2, label='sine')\n",
    "# TODO"
   ]
  },
  {
   "cell_type": "markdown",
   "metadata": {},
   "source": [
    "### 2.2 Clouds of points"
   ]
  },
  {
   "cell_type": "code",
   "execution_count": 70,
   "metadata": {},
   "outputs": [
    {
     "name": "stdout",
     "output_type": "stream",
     "text": [
      "(1000, 1000)\n",
      "[[0.72663459 0.27661055 0.8098405  ... 0.53216813 0.18730549 0.19949402]\n",
      " [0.26437417 0.07901681 0.71593158 ... 0.7820114  0.88050396 0.21397296]\n",
      " [0.81806634 0.73041234 0.74814068 ... 0.51596186 0.8823399  0.97188262]\n",
      " ...\n",
      " [0.22396357 0.24358894 0.80416253 ... 0.77029584 0.66396594 0.59751577]\n",
      " [0.52497614 0.61540152 0.49347387 ... 0.23800865 0.45814806 0.71704009]\n",
      " [0.15722672 0.08694314 0.35115134 ... 0.71597464 0.73615547 0.68639958]]\n"
     ]
    }
   ],
   "source": [
    "# Create a cloud of points, uniformely distributed over [0, 1] x [0, 1]\n",
    "X = np.random.rand(1000, 1000)\n",
    "print(X.shape)\n",
    "print(X)"
   ]
  },
  {
   "cell_type": "code",
   "execution_count": 69,
   "metadata": {},
   "outputs": [
    {
     "data": {
      "text/plain": [
       "(0, 1)"
      ]
     },
     "execution_count": 69,
     "metadata": {},
     "output_type": "execute_result"
    },
    {
     "data": {
      "image/png": "[encoded data removed]",
      "text/plain": [
       "<Figure size 288x288 with 1 Axes>"
      ]
     },
     "metadata": {
      "needs_background": "light"
     },
     "output_type": "display_data"
    }
   ],
   "source": [
    "# Create a square figure\n",
    "fig = plt.figure(figsize=(4, 4))\n",
    "\n",
    "# Plot them\n",
    "plt.scatter(X[0], X[1], marker=\"+\")\n",
    "\n",
    "# Use the same ranges for both axes\n",
    "plt.xlim([0, 1])\n",
    "plt.ylim([0, 1])"
   ]
  },
  {
   "cell_type": "markdown",
   "metadata": {},
   "source": [
    "### 2.3 Histograms"
   ]
  },
  {
   "cell_type": "code",
   "execution_count": null,
   "metadata": {},
   "outputs": [],
   "source": [
    "# Plot the histogram of the first dimension of X\n",
    "hh = plt.hist(X[0], bins=50)"
   ]
  },
  {
   "cell_type": "markdown",
   "metadata": {},
   "source": [
    "## Problem 2.5\n",
    "\n",
    "Create a cloud of 500 normally distributed points. Plot them on a square figure, with orange markers."
   ]
  },
  {
   "cell_type": "code",
   "execution_count": 81,
   "metadata": {},
   "outputs": [
    {
     "data": {
      "text/plain": [
       "(0, 1)"
      ]
     },
     "execution_count": 81,
     "metadata": {},
     "output_type": "execute_result"
    },
    {
     "data": {
      "image/png": "[encoded data removed]",
      "text/plain": [
       "<Figure size 288x288 with 1 Axes>"
      ]
     },
     "metadata": {
      "needs_background": "light"
     },
     "output_type": "display_data"
    }
   ],
   "source": [
    "X = np.random.random((2, 500))\n",
    "# print(X)\n",
    "\n",
    "fig = plt.figure(figsize=(4,4))\n",
    "plt.scatter(X[0,], X[1], color='orange', marker='+')\n",
    "plt.xlim([0, 1])\n",
    "plt.ylim([0, 1])"
   ]
  },
  {
   "cell_type": "markdown",
   "metadata": {},
   "source": [
    "### 2.4 Visualizing vectors"
   ]
  },
  {
   "cell_type": "code",
   "execution_count": 82,
   "metadata": {},
   "outputs": [
    {
     "data": {
      "text/plain": [
       "Text(0, 0.5, 'v')"
      ]
     },
     "execution_count": 82,
     "metadata": {},
     "output_type": "execute_result"
    },
    {
     "data": {
      "image/png": "[encoded data removed]",
      "text/plain": [
       "<Figure size 432x288 with 1 Axes>"
      ]
     },
     "metadata": {
      "needs_background": "light"
     },
     "output_type": "display_data"
    }
   ],
   "source": [
    "v = np.array([1, 3, 2, 4])\n",
    "x = np.array(range(len(v)))\n",
    "\n",
    "plt.figure()\n",
    "plt.scatter(x, v, label='v(x)')\n",
    "\n",
    "plt.xlabel('x', fontsize='16')\n",
    "plt.ylabel('v', fontsize='16')"
   ]
  },
  {
   "cell_type": "markdown",
   "metadata": {},
   "source": [
    "### 2.5 Heatmaps and matrix visualization\n",
    "\n",
    "Matplotlib will automatically assign a color to each numerical value, based on a color map. For more about color maps see:\n",
    "http://matplotlib.org/users/colormaps.html\n",
    "http://matplotlib.org/1.2.1/examples/pylab_examples/show_colormaps.html\n"
   ]
  },
  {
   "cell_type": "code",
   "execution_count": 88,
   "metadata": {},
   "outputs": [
    {
     "data": {
      "image/png": "[encoded data removed]",
      "text/plain": [
       "<Figure size 432x288 with 2 Axes>"
      ]
     },
     "metadata": {
      "needs_background": "light"
     },
     "output_type": "display_data"
    }
   ],
   "source": [
    "C = np.random.random((50, 100))\n",
    "\n",
    "# View matrix (row indices from top to botton)\n",
    "plt.imshow(C, interpolation='nearest')\n",
    "plt.colorbar()\n",
    "plt.show()"
   ]
  },
  {
   "cell_type": "code",
   "execution_count": 90,
   "metadata": {},
   "outputs": [
    {
     "data": {
      "text/plain": [
       "<matplotlib.colorbar.Colorbar at 0x2382a25fc50>"
      ]
     },
     "execution_count": 90,
     "metadata": {},
     "output_type": "execute_result"
    },
    {
     "data": {
      "image/png": "[encoded data removed]",
      "text/plain": [
       "<Figure size 432x288 with 2 Axes>"
      ]
     },
     "metadata": {
      "needs_background": "light"
     },
     "output_type": "display_data"
    }
   ],
   "source": [
    "# View matrix (row indices from bottom to top)\n",
    "heatmap = plt.pcolor(C) #, cmap=plt.cm.Blues)\n",
    "plt.colorbar(heatmap)"
   ]
  },
  {
   "cell_type": "markdown",
   "metadata": {},
   "source": [
    "### 2.6 2D plots of functions"
   ]
  },
  {
   "cell_type": "code",
   "execution_count": 92,
   "metadata": {},
   "outputs": [
    {
     "name": "stdout",
     "output_type": "stream",
     "text": [
      "[[0 0 0 0 0]\n",
      " [1 1 1 1 1]\n",
      " [2 2 2 2 2]\n",
      " [3 3 3 3 3]\n",
      " [4 4 4 4 4]]\n",
      "[[0 1 2 3 4]\n",
      " [0 1 2 3 4]\n",
      " [0 1 2 3 4]\n",
      " [0 1 2 3 4]\n",
      " [0 1 2 3 4]]\n"
     ]
    }
   ],
   "source": [
    "# Create a grid of points\n",
    "xx, yy = np.mgrid[0:5, 0:5]\n",
    "print(xx)\n",
    "print(yy)"
   ]
  },
  {
   "cell_type": "code",
   "execution_count": 93,
   "metadata": {},
   "outputs": [
    {
     "data": {
      "image/png": "[encoded data removed]",
      "text/plain": [
       "<Figure size 432x288 with 2 Axes>"
      ]
     },
     "metadata": {
      "needs_background": "light"
     },
     "output_type": "display_data"
    }
   ],
   "source": [
    "# Create a grid of points\n",
    "xx, yy = np.mgrid[-50:50, -50:50] \n",
    "\n",
    "# Plot |x+iy| on this grid \n",
    "plt.imshow(np.abs(xx + 1j*yy))\n",
    "plt.axis('on')\n",
    "cc = plt.colorbar()"
   ]
  },
  {
   "cell_type": "markdown",
   "metadata": {},
   "source": [
    "Many more types of plots and functionalities to label axes, display legends, etc. are available. The matplotlib gallery (http://matplotlib.org/gallery.html) is a good place to start to get an idea of what is possible and how to do it.\n",
    "\n",
    "Note that there are many more plotting libraries for Python. Two of the more popular are:\n",
    "\n",
    "* Seaborn (based on Matplotlib, but with more aesthetically pleasing defaults):\n",
    "    http://stanford.edu/~mwaskom/software/seaborn/index.html\n",
    "* Bokeh (creates interactive plots):\n",
    "    http://bokeh.pydata.org/\n",
    "\n"
   ]
  }
 ],
 "metadata": {
  "kernelspec": {
   "display_name": "Python 3",
   "language": "python",
   "name": "python3"
  },
  "language_info": {
   "codemirror_mode": {
    "name": "ipython",
    "version": 3
   },
   "file_extension": ".py",
   "mimetype": "text/x-python",
   "name": "python",
   "nbconvert_exporter": "python",
   "pygments_lexer": "ipython3",
   "version": "3.7.3"
  }
 },
 "nbformat": 4,
 "nbformat_minor": 2
}
